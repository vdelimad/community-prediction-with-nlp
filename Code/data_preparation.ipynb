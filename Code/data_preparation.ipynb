{
 "cells": [
  {
   "attachments": {},
   "cell_type": "markdown",
   "metadata": {},
   "source": [
    "# Data Preparation\n",
    "\n",
    "This file carries out the preparation of our data."
   ]
  },
  {
   "attachments": {},
   "cell_type": "markdown",
   "metadata": {},
   "source": [
    "## Import Necessary Libraries"
   ]
  },
  {
   "cell_type": "code",
   "execution_count": 2,
   "metadata": {},
   "outputs": [],
   "source": [
    "# import necessary libraries\n",
    "import pandas as pd\n",
    "import numpy as np\n",
    "import json\n",
    "\n",
    "import nltk\n",
    "import string\n",
    "from nltk.stem import WordNetLemmatizer\n",
    "from nltk.stem import PorterStemmer\n",
    "from nltk.corpus import stopwords\n",
    "from nltk.tokenize import word_tokenize\n",
    "# nltk.download('popular')\n",
    "\n",
    "from sklearn.feature_extraction.text import CountVectorizer\n",
    "import scipy\n",
    "\n",
    "import matplotlib.pyplot as plt"
   ]
  },
  {
   "attachments": {},
   "cell_type": "markdown",
   "metadata": {},
   "source": [
    "## Read in the Data"
   ]
  },
  {
   "cell_type": "code",
   "execution_count": 2,
   "metadata": {},
   "outputs": [],
   "source": [
    "# read in the data\n",
    "df = pd.DataFrame()\n",
    "for i in range(20):\n",
    "    new_df = pd.read_csv('../Data/reddit_data_full_text/df40k_' + str(i) + '.csv')\n",
    "    df = pd.concat([df, new_df], axis = 0)\n",
    "\n",
    "# drop the column that used to be the index\n",
    "df = df.drop(columns = ['Unnamed: 0'])"
   ]
  },
  {
   "cell_type": "code",
   "execution_count": 3,
   "metadata": {},
   "outputs": [
    {
     "name": "stdout",
     "output_type": "stream",
     "text": [
      "DataFrame Shape: (200000, 4)\n"
     ]
    },
    {
     "data": {
      "text/html": [
       "<div>\n",
       "<style scoped>\n",
       "    .dataframe tbody tr th:only-of-type {\n",
       "        vertical-align: middle;\n",
       "    }\n",
       "\n",
       "    .dataframe tbody tr th {\n",
       "        vertical-align: top;\n",
       "    }\n",
       "\n",
       "    .dataframe thead th {\n",
       "        text-align: right;\n",
       "    }\n",
       "</style>\n",
       "<table border=\"1\" class=\"dataframe\">\n",
       "  <thead>\n",
       "    <tr style=\"text-align: right;\">\n",
       "      <th></th>\n",
       "      <th>author</th>\n",
       "      <th>subreddit</th>\n",
       "      <th>content</th>\n",
       "      <th>summary</th>\n",
       "    </tr>\n",
       "  </thead>\n",
       "  <tbody>\n",
       "    <tr>\n",
       "      <th>0</th>\n",
       "      <td>HuevoSplash</td>\n",
       "      <td>AskReddit</td>\n",
       "      <td>Seems smarter\" is why it won't work.  I've see...</td>\n",
       "      <td>The system is the problem.  Going inside it wo...</td>\n",
       "    </tr>\n",
       "    <tr>\n",
       "      <th>1</th>\n",
       "      <td>gravedigger04325</td>\n",
       "      <td>AskReddit</td>\n",
       "      <td>Travel back to the 1980s and nuke the everlovi...</td>\n",
       "      <td>Nuke. Boom. 2 time lines.</td>\n",
       "    </tr>\n",
       "    <tr>\n",
       "      <th>2</th>\n",
       "      <td>adamshell</td>\n",
       "      <td>AskReddit</td>\n",
       "      <td>I'm the preacher at a small church in Virginia...</td>\n",
       "      <td>If times are tough, would you ask for financia...</td>\n",
       "    </tr>\n",
       "    <tr>\n",
       "      <th>3</th>\n",
       "      <td>allthatsalsa</td>\n",
       "      <td>AskReddit</td>\n",
       "      <td>One of my roommates moved out several months a...</td>\n",
       "      <td>Roommate left a pool table and a couch. He's n...</td>\n",
       "    </tr>\n",
       "    <tr>\n",
       "      <th>4</th>\n",
       "      <td>soulcaptain</td>\n",
       "      <td>AskReddit</td>\n",
       "      <td>I was stopped at a red light that also just ha...</td>\n",
       "      <td>Got stuck on a railroad track, just barely eva...</td>\n",
       "    </tr>\n",
       "  </tbody>\n",
       "</table>\n",
       "</div>"
      ],
      "text/plain": [
       "             author  subreddit  \\\n",
       "0       HuevoSplash  AskReddit   \n",
       "1  gravedigger04325  AskReddit   \n",
       "2         adamshell  AskReddit   \n",
       "3      allthatsalsa  AskReddit   \n",
       "4       soulcaptain  AskReddit   \n",
       "\n",
       "                                             content  \\\n",
       "0  Seems smarter\" is why it won't work.  I've see...   \n",
       "1  Travel back to the 1980s and nuke the everlovi...   \n",
       "2  I'm the preacher at a small church in Virginia...   \n",
       "3  One of my roommates moved out several months a...   \n",
       "4  I was stopped at a red light that also just ha...   \n",
       "\n",
       "                                             summary  \n",
       "0  The system is the problem.  Going inside it wo...  \n",
       "1                          Nuke. Boom. 2 time lines.  \n",
       "2  If times are tough, would you ask for financia...  \n",
       "3  Roommate left a pool table and a couch. He's n...  \n",
       "4  Got stuck on a railroad track, just barely eva...  "
      ]
     },
     "metadata": {},
     "output_type": "display_data"
    }
   ],
   "source": [
    "# print data features\n",
    "print('DataFrame Shape:', df.shape)\n",
    "display(df.head())"
   ]
  },
  {
   "attachments": {},
   "cell_type": "markdown",
   "metadata": {},
   "source": [
    "## Clean the Textual Data"
   ]
  },
  {
   "cell_type": "code",
   "execution_count": 5,
   "metadata": {},
   "outputs": [],
   "source": [
    "# build lemmatizer and porter stemmer\n",
    "lemmatizer = WordNetLemmatizer()\n",
    "stemmer = PorterStemmer()\n",
    "\n",
    "# gather stop words\n",
    "stop_words = set(stopwords.words('english'))\n",
    "\n",
    "# start collecting clean texts and vocabulary\n",
    "new_texts = []; vocabulary = set()\n",
    "\n",
    "# clean each post in the 'content' column\n",
    "for content in df['content']:\n",
    "    # convert to lower case for easier use\n",
    "    text = content.lower()\n",
    "    # remove apostrophes and quotation marks (don't -> dont)\n",
    "    text = text.replace(\"'\", '').replace('\"', '').replace('/n', '')\n",
    "    # keep only alphanumeric characters and spaces\n",
    "    text = ''.join([char for char in text if char in 'abcdefghijklmnopqrstuvxwyz '])\n",
    "    # lemmatize and stem the words\n",
    "    new_words = [lemmatizer.lemmatize(word) for word in text.split() if word not in stop_words]\n",
    "    new_words = [stemmer.stem(word) for word in new_words if word not in stop_words]\n",
    "    # gather text by combining word lists into string\n",
    "    new_text = ' '.join(new_words)\n",
    "    # update the vocabulary with the new words\n",
    "    vocabulary.update(new_words)\n",
    "    # store the new text\n",
    "    new_texts.append(new_text)"
   ]
  },
  {
   "attachments": {},
   "cell_type": "markdown",
   "metadata": {},
   "source": [
    "## Apply `CountVectorizer`"
   ]
  },
  {
   "cell_type": "code",
   "execution_count": 8,
   "metadata": {},
   "outputs": [],
   "source": [
    "# make CountVectorizer\n",
    "vectorizer = CountVectorizer()\n",
    "\n",
    "# gather the sparse matrix representation\n",
    "X = vectorizer.fit_transform(new_texts)"
   ]
  },
  {
   "cell_type": "code",
   "execution_count": 10,
   "metadata": {},
   "outputs": [],
   "source": [
    "# remove all words appearing only once\n",
    "col_sums = np.array(np.sum(X, axis = 0))[0]\n",
    "keep_cols = col_sums > 1\n",
    "new_matrix = X[:, keep_cols]\n",
    "\n",
    "# store corresponding vocabulary\n",
    "word_list = vectorizer.get_feature_names_out()[keep_cols]"
   ]
  },
  {
   "cell_type": "code",
   "execution_count": 13,
   "metadata": {},
   "outputs": [
    {
     "name": "stdout",
     "output_type": "stream",
     "text": [
      "Sparse Matrix Shape: (200000, 78976) , Vocabulary List Length: 78976\n"
     ]
    }
   ],
   "source": [
    "print('Sparse Matrix Shape:', new_matrix.shape, ', Vocabulary List Length:', len(word_list))"
   ]
  },
  {
   "attachments": {},
   "cell_type": "markdown",
   "metadata": {},
   "source": [
    "## Export Sparse Matrix and Vocabulary\n",
    "\n",
    "**This is the version with shape (200,000 , 78,976)**"
   ]
  },
  {
   "cell_type": "code",
   "execution_count": 84,
   "metadata": {},
   "outputs": [],
   "source": [
    "# save the sparse matrix\n",
    "scipy.sparse.save_npz('../Data/subreddit_csr.npz', new_matrix)\n",
    "\n",
    "# save the vocabulary as JSON\n",
    "with open('../Data/subreddit_vocabulary.json', 'w') as file:\n",
    "    json.dump(list(word_list), file)\n",
    "\n",
    "# save the classifications as JSON\n",
    "with open('../Data/subreddit_classes.json', 'w') as file:\n",
    "    json.dump(list(df['subreddit']), file)"
   ]
  },
  {
   "attachments": {},
   "cell_type": "markdown",
   "metadata": {},
   "source": [
    "## Dimension Reduction"
   ]
  },
  {
   "cell_type": "code",
   "execution_count": 3,
   "metadata": {},
   "outputs": [
    {
     "name": "stdout",
     "output_type": "stream",
     "text": [
      "Shape of Sparse Matrix: (200000, 78976)\n",
      "Length of Vocabulary: 78976\n"
     ]
    }
   ],
   "source": [
    "# read in sparse representation of vocabulary\n",
    "sparse_matrix = scipy.sparse.load_npz('../Data/subreddit_csr.npz')\n",
    "\n",
    "# read in vocabulary itself\n",
    "with open('../Data/subreddit_vocabulary.json', 'r') as file:\n",
    "    vocabulary = json.load(file)\n",
    "\n",
    "print('Shape of Sparse Matrix:', sparse_matrix.shape)\n",
    "print('Length of Vocabulary:', len(vocabulary))"
   ]
  },
  {
   "attachments": {},
   "cell_type": "markdown",
   "metadata": {},
   "source": [
    "### Dimension Reduction 1: Word Count Elbow Method"
   ]
  },
  {
   "cell_type": "code",
   "execution_count": 4,
   "metadata": {},
   "outputs": [],
   "source": [
    "# sort the word frequencies, keeping the vocabulary aligned\n",
    "frequencies = np.array(np.sum(sparse_matrix, axis = 0))[0]\n",
    "sorted_frequencies = np.sort(frequencies)[::-1]\n",
    "sorted_vocabulary = [x for _, x in sorted(zip(frequencies, vocabulary))][::-1]"
   ]
  },
  {
   "cell_type": "code",
   "execution_count": 6,
   "metadata": {},
   "outputs": [
    {
     "data": {
      "image/png": "[encoded data removed]",
      "text/plain": [
       "<Figure size 800x600 with 1 Axes>"
      ]
     },
     "metadata": {},
     "output_type": "display_data"
    }
   ],
   "source": [
    "# keep a number of words in vocabulary\n",
    "words_kept = 5000\n",
    "\n",
    "fig, ax = plt.subplots(figsize = (8, 6))\n",
    "\n",
    "# plot the cumulative sum of word frequencies\n",
    "plt.style.use('ggplot')\n",
    "plt.rcParams['font.family'] = 'Arial'\n",
    "plt.rcParams.update({'font.size': 16})\n",
    "plt.plot(np.cumsum(sorted_frequencies) / np.sum(sorted_frequencies), color = '#FF4500')\n",
    "# plt.xlim(-200, 20200); plt.ylim(-0.05, 1.05)\n",
    "plt.xlabel('Number of Unique Vocabulary Words', fontsize = 16); plt.ylabel('Proportion of Total Words Used')\n",
    "plt.title('Elbow Method for Retaining Vocabulary')\n",
    "plt.vlines(x = words_kept, ymin = 0, ymax = 1, color = '#1B2426', linestyles = 'dashed')\n",
    "plt.hlines(y = np.cumsum(sorted_frequencies)[words_kept - 1] / np.sum(sorted_frequencies),\\\n",
    "            xmin = 0, xmax = 78976, color = '#1B2426', linestyles = 'dashed')\n",
    "plt.savefig('../Output/DataPreparationResults/vocabulary_elbow_method.png')"
   ]
  },
  {
   "cell_type": "code",
   "execution_count": 64,
   "metadata": {},
   "outputs": [
    {
     "name": "stdout",
     "output_type": "stream",
     "text": [
      "We can retain a proportion of words used of 0.9475 with only 5000 of 245050 words kept ( proportion of 0.0204 ).\n"
     ]
    }
   ],
   "source": [
    "# calculate the proportion of words used from n words kept\n",
    "prop = np.cumsum(sorted_frequencies)[words_kept - 1] / np.sum(sorted_frequencies)\n",
    "print('We can retain a proportion of words used of', round(prop, 4), 'with only',\\\n",
    "       words_kept, 'of 245050 words kept ( proportion of', round(words_kept / 245050, 5), ').')"
   ]
  },
  {
   "cell_type": "code",
   "execution_count": 65,
   "metadata": {},
   "outputs": [],
   "source": [
    "# keep 5,000 word frequencies and vocabulary words\n",
    "kept_frequencies = sorted_frequencies[:words_kept] # sorted greatest to least\n",
    "kept_vocabulary = sorted_vocabulary[:words_kept] # sorted greatest frequency to least"
   ]
  },
  {
   "cell_type": "code",
   "execution_count": 67,
   "metadata": {},
   "outputs": [
    {
     "name": "stdout",
     "output_type": "stream",
     "text": [
      "Shape of Sparse Matrix: (200000, 5000)\n",
      "Length of Kept Vocabulary 5000\n"
     ]
    }
   ],
   "source": [
    "# find the indices in the sparse matrix where we want to keep our 5,000 words\n",
    "keep_indices = [index for index, word in enumerate(vocabulary) if word in kept_vocabulary]\n",
    "keep_words = [word for word in vocabulary if word in kept_vocabulary] # allows us to get the ordering in the sparse matrix\n",
    "\n",
    "# extract the correct columns of the sparse matrix\n",
    "kept_matrix = sparse_matrix[:, keep_indices]\n",
    "\n",
    "print('Shape of Sparse Matrix:', kept_matrix.shape)\n",
    "print('Length of Kept Vocabulary', len(keep_words))"
   ]
  },
  {
   "attachments": {},
   "cell_type": "markdown",
   "metadata": {},
   "source": [
    "We've successfully retained 5,000 columns of the sparse matrix representation (5,000 words for 200,000 posts)"
   ]
  },
  {
   "attachments": {},
   "cell_type": "markdown",
   "metadata": {},
   "source": [
    "## Export (Reduced) Sparse Matrix and Vocabulary\n",
    "\n",
    "**This is the version with shape (200,000 , 5,000)**"
   ]
  },
  {
   "cell_type": "code",
   "execution_count": 69,
   "metadata": {},
   "outputs": [],
   "source": [
    "# save the reduced sparse matrix\n",
    "scipy.sparse.save_npz('../Data/subreddit_csr_5000.npz', kept_matrix)\n",
    "\n",
    "# save the reduced vocabulary as JSON\n",
    "with open('../Data/subreddit_vocabulary_5000.json', 'w') as file:\n",
    "    json.dump(list(keep_words), file)"
   ]
  }
 ],
 "metadata": {
  "kernelspec": {
   "display_name": "anly503",
   "language": "python",
   "name": "python3"
  },
  "language_info": {
   "codemirror_mode": {
    "name": "ipython",
    "version": 3
   },
   "file_extension": ".py",
   "mimetype": "text/x-python",
   "name": "python",
   "nbconvert_exporter": "python",
   "pygments_lexer": "ipython3",
   "version": "3.10.8"
  },
  "orig_nbformat": 4
 },
 "nbformat": 4,
 "nbformat_minor": 2
}
